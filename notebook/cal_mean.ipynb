{
 "cells": [
  {
   "cell_type": "code",
   "execution_count": 1,
   "metadata": {},
   "outputs": [],
   "source": [
    "import cv2, os, argparse\n",
    "import numpy as np\n",
    "from tqdm import tqdm\n"
   ]
  },
  {
   "cell_type": "code",
   "execution_count": null,
   "metadata": {},
   "outputs": [],
   "source": [
    "\n",
    "\n",
    "def main():\n",
    "    dirs = r'F:\\Pycharm Professonal\\CenterNet\\CenterNet\\data\\food\\images'  # 修改你自己的图片路径\n",
    "    img_file_names = os.listdir(dirs)\n",
    "    m_list, s_list = [], []\n",
    "    for img_filename in tqdm(img_file_names):\n",
    "        img = cv2.imread(dirs + '/' + img_filename)\n",
    "        img = img / 255.0\n",
    "        m, s = cv2.meanStdDev(img)\n",
    "        m_list.append(m.reshape((3,)))\n",
    "        s_list.append(s.reshape((3,)))\n",
    "    m_array = np.array(m_list)\n",
    "    s_array = np.array(s_list)\n",
    "    m = m_array.mean(axis=0, keepdims=True)\n",
    "    s = s_array.mean(axis=0, keepdims=True)\n",
    "    print(\"mean = \", m[0][::-1])\n",
    "    print(\"std = \", s[0][::-1])\n",
    "\n",
    "\n",
    "if __name__ == '__main__':\n",
    "    main()\n",
    "\n"
   ]
  }
 ],
 "metadata": {
  "kernelspec": {
   "display_name": "Python 3",
   "language": "python",
   "name": "python3"
  },
  "language_info": {
   "codemirror_mode": {
    "name": "ipython",
    "version": 3
   },
   "file_extension": ".py",
   "mimetype": "text/x-python",
   "name": "python",
   "nbconvert_exporter": "python",
   "pygments_lexer": "ipython3",
   "version": "3.7.4"
  }
 },
 "nbformat": 4,
 "nbformat_minor": 4
}
